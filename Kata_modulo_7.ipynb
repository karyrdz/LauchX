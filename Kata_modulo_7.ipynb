{
 "cells": [
  {
   "cell_type": "code",
   "execution_count": 1,
   "metadata": {
    "collapsed": false
   },
   "outputs": [
   ],
   "source": [
    "# Declaramos 2 variables\n",
    "\n",
    "new_planet = ''\n",
    "planets = []"
   ]
  },
  {
   "cell_type": "code",
   "execution_count": 2,
   "metadata": {
    "cocalc": {
     "outputs": {
      "0": {
       "name": "input",
       "opts": {
        "password": false,
        "prompt": "Enter a new planet "
       },
       "output_type": "stream",
       "value": "Pluto"
      },
      "1": {
       "name": "input",
       "opts": {
        "password": false,
        "prompt": "Enter a new planet "
       },
       "output_type": "stream",
       "value": "Saturn"
      },
      "2": {
       "name": "input",
       "opts": {
        "password": false,
        "prompt": "Enter a new planet "
       },
       "output_type": "stream",
       "value": "Uranus"
      },
      "3": {
       "name": "input",
       "opts": {
        "password": false,
        "prompt": "Enter a new planet "
       },
       "output_type": "stream",
       "value": "Mars"
      },
      "4": {
       "name": "input",
       "opts": {
        "password": false,
        "prompt": "Enter a new planet "
       },
       "output_type": "stream"
      }
     }
    },
    "collapsed": false
   },
   "outputs": [
    {
     "name": "stdout",
     "output_type": "stream",
     "text": "Enter a new planet  Pluto"
    },
    {
     "name": "stdout",
     "output_type": "stream",
     "text": "Enter a new planet  Saturn"
    },
    {
     "name": "stdout",
     "output_type": "stream",
     "text": "Enter a new planet  Uranus"
    },
    {
     "name": "stdout",
     "output_type": "stream",
     "text": "Enter a new planet  Mars"
    },
    {
     "name": "stdout",
     "output_type": "stream",
     "text": "Enter a new planet  "
    }
   ],
   "source": [
    "# Escribe el ciclo while solicitado\n",
    "\n",
    "while new_planet.lower() != 'done':\n",
    "    if new_planet:\n",
    "        planets.append(new_planet)\n",
    "    new_planet = input('Enter a new planet ')"
   ]
  },
  {
   "cell_type": "code",
   "execution_count": 0,
   "metadata": {
    "collapsed": false
   },
   "outputs": [
   ],
   "source": [
    "# Escribe tu ciclo for para iterar en una lista de planetas\n",
    "\n",
    "for planet in planets:\n",
    "    print(planet)"
   ]
  },
  {
   "cell_type": "code",
   "execution_count": 0,
   "metadata": {
    "collapsed": false
   },
   "outputs": [
   ],
   "source": [
   ]
  }
 ],
 "metadata": {
  "kernelspec": {
   "display_name": "Python 3 (system-wide)",
   "language": "python",
   "metadata": {
    "cocalc": {
     "description": "Python 3 programming language",
     "priority": 100,
     "url": "https://www.python.org/"
    }
   },
   "name": "python3",
   "resource_dir": "/ext/jupyter/kernels/python3"
  },
  "language_info": {
   "codemirror_mode": {
    "name": "ipython",
    "version": 3
   },
   "file_extension": ".py",
   "mimetype": "text/x-python",
   "name": "python",
   "nbconvert_exporter": "python",
   "pygments_lexer": "ipython3",
   "version": "3.8.10"
  }
 },
 "nbformat": 4,
 "nbformat_minor": 4
}